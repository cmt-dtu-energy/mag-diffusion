{
 "cells": [
  {
   "cell_type": "code",
   "execution_count": 2,
   "metadata": {},
   "outputs": [],
   "source": [
    "from torch.utils.data import Dataset, DataLoader\n",
    "import torch\n",
    "from torchvision import transforms\n",
    "import numpy as np\n",
    "import h5py"
   ]
  },
  {
   "cell_type": "code",
   "execution_count": 18,
   "metadata": {},
   "outputs": [],
   "source": [
    "def div(field):\n",
    "    Fx_x = np.gradient(field[0], axis=0)\n",
    "    Fy_y = np.gradient(field[1], axis=1)\n",
    "    div = np.stack([Fx_x, Fy_y], axis=0)\n",
    "\n",
    "    return div.sum(axis=0)\n",
    "\n",
    "def div_torch(field):\n",
    "    Fx_x = torch.gradient(field[0], dim=0)\n",
    "    Fy_y = torch.gradient(field[1], dim=1)\n",
    "\n",
    "    div = torch.stack([Fx_x[0], Fy_y[0]], dim=0)\n",
    "\n",
    "    return torch.sum(div, dim=0)"
   ]
  },
  {
   "cell_type": "code",
   "execution_count": 40,
   "metadata": {},
   "outputs": [],
   "source": [
    "class MagnetismData(Dataset):\n",
    "    def __init__(self, db, transform=None):\n",
    "        self.db = db\n",
    "        self.transform = transform\n",
    "\n",
    "    def __len__(self):\n",
    "        return self.db['field'].shape[0]\n",
    "\n",
    "    def __getitem__(self, idx):\n",
    "        field = self.db['field'][idx].transpose(1,2,0)\n",
    "        #print(abs(div(self.db['field'][idx])).mean())\n",
    "        if self.transform:\n",
    "            field = self.transform(field)\n",
    "        return field"
   ]
  },
  {
   "cell_type": "code",
   "execution_count": 4,
   "metadata": {},
   "outputs": [],
   "source": [
    "magnetdb = h5py.File('/home/s214435/data/magfield_symm_64.h5')\n",
    "dbstd = np.std(magnetdb['field'])\n",
    "channels = magnetdb[\"field\"].shape[1]"
   ]
  },
  {
   "cell_type": "code",
   "execution_count": 59,
   "metadata": {},
   "outputs": [],
   "source": [
    "tf = transforms.Compose([\n",
    "        transforms.ToTensor(), transforms.Normalize((0.0, )*channels, (dbstd, )*channels)\n",
    "    ])\n",
    "\n",
    "dataset = MagnetismData(\n",
    "magnetdb,\n",
    "transform=tf\n",
    ")\n",
    "\n",
    "dataloader = DataLoader(dataset, batch_size=4, shuffle=False, num_workers=1)"
   ]
  },
  {
   "cell_type": "code",
   "execution_count": 75,
   "metadata": {},
   "outputs": [
    {
     "name": "stdout",
     "output_type": "stream",
     "text": [
      "4.757722e-06\n",
      "4.7577078e-06\n",
      "tensor(4.7577e-06)\n",
      "False\n"
     ]
    }
   ],
   "source": [
    "#print(dataset[0].numpy().shape)\n",
    "print(abs(div(magnetdb[\"field\"][0])).mean())\n",
    "print(abs(div(dataset[0].numpy()*dbstd)).mean())\n",
    "print(torch.mean(torch.abs(div_torch(dataset[0]*dbstd))))\n",
    "#print(magnetdb[\"field\"][0])\n",
    "#print(dataset[0].numpy())\n",
    "print(np.array_equal(magnetdb[\"field\"][0], dataset[0].numpy()*dbstd))"
   ]
  },
  {
   "cell_type": "code",
   "execution_count": 87,
   "metadata": {},
   "outputs": [
    {
     "data": {
      "text/plain": [
       "torch.Size([4, 2, 64, 64])"
      ]
     },
     "execution_count": 87,
     "metadata": {},
     "output_type": "execute_result"
    }
   ],
   "source": [
    "samples=next(iter(dataloader)).requires_grad_(True)\n",
    "samples.shape"
   ]
  },
  {
   "cell_type": "code",
   "execution_count": 88,
   "metadata": {},
   "outputs": [
    {
     "name": "stdout",
     "output_type": "stream",
     "text": [
      "tensor(4.7577e-06, grad_fn=<MeanBackward0>)\n",
      "tensor(5.3377e-06, grad_fn=<MeanBackward0>)\n",
      "tensor(2.8505e-06, grad_fn=<MeanBackward0>)\n",
      "tensor(3.2964e-06, grad_fn=<MeanBackward0>)\n"
     ]
    }
   ],
   "source": [
    "for sam in samples:\n",
    "    print(torch.mean(torch.abs(div_torch(sam*dbstd))))"
   ]
  },
  {
   "cell_type": "code",
   "execution_count": 90,
   "metadata": {},
   "outputs": [],
   "source": [
    "out = torch.sum(torch.vmap(lambda x: torch.mean(torch.abs(div_torch(x*dbstd))))(samples))"
   ]
  },
  {
   "cell_type": "code",
   "execution_count": 91,
   "metadata": {},
   "outputs": [],
   "source": [
    "out.backward()"
   ]
  },
  {
   "cell_type": "code",
   "execution_count": 93,
   "metadata": {},
   "outputs": [
    {
     "data": {
      "text/plain": [
       "tensor([[[-5.4711e-05,  5.4711e-05,  5.4711e-05,  ..., -1.8237e-05,\n",
       "          -1.8237e-05, -1.8237e-05],\n",
       "         [ 1.8237e-05, -1.8237e-05, -1.8237e-05,  ...,  5.4711e-05,\n",
       "           5.4711e-05,  5.4711e-05],\n",
       "         [ 0.0000e+00,  0.0000e+00,  0.0000e+00,  ...,  0.0000e+00,\n",
       "           0.0000e+00,  0.0000e+00],\n",
       "         ...,\n",
       "         [ 0.0000e+00,  0.0000e+00,  0.0000e+00,  ...,  0.0000e+00,\n",
       "           0.0000e+00,  0.0000e+00],\n",
       "         [ 5.4711e-05,  5.4711e-05,  5.4711e-05,  ..., -5.4711e-05,\n",
       "          -5.4711e-05, -1.8237e-05],\n",
       "         [-1.8237e-05, -1.8237e-05, -1.8237e-05,  ...,  1.8237e-05,\n",
       "           1.8237e-05,  5.4711e-05]],\n",
       "\n",
       "        [[-1.8237e-05,  5.4711e-05,  0.0000e+00,  ...,  0.0000e+00,\n",
       "          -1.8237e-05,  5.4711e-05],\n",
       "         [-1.8237e-05,  5.4711e-05,  0.0000e+00,  ...,  0.0000e+00,\n",
       "           1.8237e-05, -5.4711e-05],\n",
       "         [-1.8237e-05,  5.4711e-05,  0.0000e+00,  ...,  0.0000e+00,\n",
       "           1.8237e-05, -5.4711e-05],\n",
       "         ...,\n",
       "         [-5.4711e-05,  1.8237e-05,  0.0000e+00,  ...,  0.0000e+00,\n",
       "          -5.4711e-05,  1.8237e-05],\n",
       "         [-5.4711e-05,  1.8237e-05,  0.0000e+00,  ...,  0.0000e+00,\n",
       "          -5.4711e-05,  1.8237e-05],\n",
       "         [ 5.4711e-05, -1.8237e-05,  0.0000e+00,  ...,  0.0000e+00,\n",
       "          -1.8237e-05,  5.4711e-05]]])"
      ]
     },
     "execution_count": 93,
     "metadata": {},
     "output_type": "execute_result"
    }
   ],
   "source": [
    "samples.grad[0]"
   ]
  },
  {
   "cell_type": "code",
   "execution_count": null,
   "metadata": {},
   "outputs": [],
   "source": []
  }
 ],
 "metadata": {
  "kernelspec": {
   "display_name": "bachelor",
   "language": "python",
   "name": "python3"
  },
  "language_info": {
   "codemirror_mode": {
    "name": "ipython",
    "version": 3
   },
   "file_extension": ".py",
   "mimetype": "text/x-python",
   "name": "python",
   "nbconvert_exporter": "python",
   "pygments_lexer": "ipython3",
   "version": "3.11.9"
  }
 },
 "nbformat": 4,
 "nbformat_minor": 2
}
