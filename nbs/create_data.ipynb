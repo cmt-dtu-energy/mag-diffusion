{
 "cells": [
  {
   "cell_type": "markdown",
   "metadata": {},
   "source": [
    "## Create new magentic fields with [magtense](https://github.com/cmt-dtu-energy/MagTense/tree/master)"
   ]
  },
  {
   "cell_type": "code",
   "execution_count": 1,
   "metadata": {},
   "outputs": [
    {
     "name": "stderr",
     "output_type": "stream",
     "text": [
      "100%|██████████| 1/1 [00:00<00:00, 23.98it/s]\n",
      "  0%|          | 0/1 [00:00<?, ?it/s].27it/s]\n",
      "100%|██████████| 1/1 [00:00<00:00, 22.62it/s]\n",
      "100%|██████████| 1/1 [00:00<00:00, 32.21it/s]\n",
      "100%|██████████| 1/1 [00:00<00:00, 26.29it/s]\n",
      "100%|██████████| 1/1 [00:00<00:00, 17.09it/s]\n",
      "100%|██████████| 1/1 [00:00<00:00, 29.73it/s]\n",
      "100%|██████████| 1/1 [00:00<00:00, 29.99it/s]\n",
      "100%|██████████| 1/1 [00:00<00:00, 17.13it/s]\n",
      "100%|██████████| 1/1 [00:00<00:00, 21.98it/s]\n"
     ]
    },
    {
     "name": "stdout",
     "output_type": "stream",
     "text": [
      "/home/spol/Documents/repos/mag-diffusion/src/pmdd/utils/../../../data/magfield_symm_32_z_5_6.h5\n",
      "/home/spol/Documents/repos/mag-diffusion/src/pmdd/utils/../../../data/magfield_symm_32_z_1_2.h5\n",
      "/home/spol/Documents/repos/mag-diffusion/src/pmdd/utils/../../../data/magfield_symm_32_z_6_7.h5\n",
      "/home/spol/Documents/repos/mag-diffusion/src/pmdd/utils/../../../data/magfield_symm_32_z_8_9.h5\n",
      "/home/spol/Documents/repos/mag-diffusion/src/pmdd/utils/../../../data/magfield_symm_32_z_4_5.h5\n",
      "/home/spol/Documents/repos/mag-diffusion/src/pmdd/utils/../../../data/magfield_symm_32_z_2_3.h5\n",
      "/home/spol/Documents/repos/mag-diffusion/src/pmdd/utils/../../../data/magfield_symm_32_z_3_4.h5\n",
      "/home/spol/Documents/repos/mag-diffusion/src/pmdd/utils/../../../data/magfield_symm_32_z_0_1.h5\n",
      "/home/spol/Documents/repos/mag-diffusion/src/pmdd/utils/../../../data/magfield_symm_32_z_7_8.h5\n",
      "/home/spol/Documents/repos/mag-diffusion/src/pmdd/utils/../../../data/magfield_symm_32_z_9_10.h5\n",
      "Database created\n"
     ]
    }
   ],
   "source": [
    "from pmdd.utils.data_utils import create_db_mp\n",
    "\n",
    "db_kwargs = {\n",
    "    'n_samples': 10,\n",
    "    'res': [32,32],\n",
    "    'z_comp': False\n",
    "}\n",
    "create_db_mp('magfield_symm', n_workers=15, **db_kwargs)"
   ]
  }
 ],
 "metadata": {
  "kernelspec": {
   "display_name": "magtense",
   "language": "python",
   "name": "python3"
  },
  "language_info": {
   "codemirror_mode": {
    "name": "ipython",
    "version": 3
   },
   "file_extension": ".py",
   "mimetype": "text/x-python",
   "name": "python",
   "nbconvert_exporter": "python",
   "pygments_lexer": "ipython3",
   "version": "3.11.9"
  }
 },
 "nbformat": 4,
 "nbformat_minor": 2
}
