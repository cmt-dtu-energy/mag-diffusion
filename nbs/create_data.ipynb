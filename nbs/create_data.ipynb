{
 "cells": [
  {
   "cell_type": "markdown",
   "metadata": {},
   "source": [
    "## Create new magentic fields with [magtense](https://github.com/cmt-dtu-energy/MagTense/tree/master)"
   ]
  },
  {
   "cell_type": "code",
   "execution_count": 1,
   "metadata": {},
   "outputs": [
    {
     "ename": "TypeError",
     "evalue": "Unsupported integer size (0)",
     "output_type": "error",
     "traceback": [
      "\u001b[0;31m---------------------------------------------------------------------------\u001b[0m",
      "\u001b[0;31mKeyError\u001b[0m                                  Traceback (most recent call last)",
      "File \u001b[0;32mh5py/h5t.pyx:1448\u001b[0m, in \u001b[0;36mh5py.h5t._c_int\u001b[0;34m()\u001b[0m\n",
      "\u001b[0;31mKeyError\u001b[0m: 0",
      "\nDuring handling of the above exception, another exception occurred:\n",
      "\u001b[0;31mTypeError\u001b[0m                                 Traceback (most recent call last)",
      "Cell \u001b[0;32mIn[1], line 7\u001b[0m\n\u001b[1;32m      1\u001b[0m \u001b[38;5;28;01mfrom\u001b[39;00m \u001b[38;5;21;01mpmdd\u001b[39;00m\u001b[38;5;21;01m.\u001b[39;00m\u001b[38;5;21;01mutils\u001b[39;00m\u001b[38;5;21;01m.\u001b[39;00m\u001b[38;5;21;01mdata_utils\u001b[39;00m \u001b[38;5;28;01mimport\u001b[39;00m create_db_mp\n\u001b[1;32m      3\u001b[0m db_kwargs \u001b[38;5;241m=\u001b[39m {\n\u001b[1;32m      4\u001b[0m     \u001b[38;5;124m'\u001b[39m\u001b[38;5;124mn_samples\u001b[39m\u001b[38;5;124m'\u001b[39m: \u001b[38;5;241m10\u001b[39m,\n\u001b[1;32m      5\u001b[0m     \u001b[38;5;124m'\u001b[39m\u001b[38;5;124mres\u001b[39m\u001b[38;5;124m'\u001b[39m: [\u001b[38;5;241m32\u001b[39m,\u001b[38;5;241m32\u001b[39m],\n\u001b[1;32m      6\u001b[0m }\n\u001b[0;32m----> 7\u001b[0m create_db_mp(\u001b[38;5;124m'\u001b[39m\u001b[38;5;124mmagfield_symm\u001b[39m\u001b[38;5;124m'\u001b[39m, n_workers\u001b[38;5;241m=\u001b[39m\u001b[38;5;241m15\u001b[39m, \u001b[38;5;241m*\u001b[39m\u001b[38;5;241m*\u001b[39mdb_kwargs)\n",
      "File \u001b[0;32m~/Documents/repos/mag-diffusion/src/pmdd/utils/data_utils.py:276\u001b[0m, in \u001b[0;36mcreate_db_mp\u001b[0;34m(data, n_workers, datapath, **kwargs)\u001b[0m\n\u001b[1;32m    273\u001b[0m \u001b[38;5;28;01melse\u001b[39;00m:\n\u001b[1;32m    274\u001b[0m     \u001b[38;5;28;01mraise\u001b[39;00m \u001b[38;5;167;01mNotImplementedError\u001b[39;00m()\n\u001b[0;32m--> 276\u001b[0m db_name, n_tasks \u001b[38;5;241m=\u001b[39m target(\u001b[38;5;241m*\u001b[39m\u001b[38;5;241m*\u001b[39mkwargs, empty\u001b[38;5;241m=\u001b[39m\u001b[38;5;28;01mTrue\u001b[39;00m)\n\u001b[1;32m    278\u001b[0m \u001b[38;5;28;01mif\u001b[39;00m n_workers \u001b[38;5;129;01mis\u001b[39;00m \u001b[38;5;28;01mNone\u001b[39;00m:\n\u001b[1;32m    279\u001b[0m     n_workers \u001b[38;5;241m=\u001b[39m cpu_count()\n",
      "File \u001b[0;32m~/Documents/repos/mag-diffusion/src/pmdd/utils/data_utils.py:165\u001b[0m, in \u001b[0;36mdb_magfield_symm\u001b[0;34m(datapath, n_samples, res, spots, area, gap, seed, intv, name, empty)\u001b[0m\n\u001b[1;32m    162\u001b[0m     area[\u001b[38;5;241m2\u001b[39m] \u001b[38;5;241m=\u001b[39m \u001b[38;5;241m10\u001b[39m\n\u001b[1;32m    164\u001b[0m \u001b[38;5;28;01mif\u001b[39;00m empty:\n\u001b[0;32m--> 165\u001b[0m     db\u001b[38;5;241m.\u001b[39mattrs[\u001b[38;5;124m\"\u001b[39m\u001b[38;5;124mspots\u001b[39m\u001b[38;5;124m\"\u001b[39m] \u001b[38;5;241m=\u001b[39m spots\n\u001b[1;32m    166\u001b[0m     db\u001b[38;5;241m.\u001b[39mattrs[\u001b[38;5;124m\"\u001b[39m\u001b[38;5;124marea\u001b[39m\u001b[38;5;124m\"\u001b[39m] \u001b[38;5;241m=\u001b[39m area\n\u001b[1;32m    167\u001b[0m     db\u001b[38;5;241m.\u001b[39mattrs[\u001b[38;5;124m\"\u001b[39m\u001b[38;5;124mgap\u001b[39m\u001b[38;5;124m\"\u001b[39m] \u001b[38;5;241m=\u001b[39m gap\n",
      "File \u001b[0;32mh5py/_objects.pyx:54\u001b[0m, in \u001b[0;36mh5py._objects.with_phil.wrapper\u001b[0;34m()\u001b[0m\n",
      "File \u001b[0;32mh5py/_objects.pyx:55\u001b[0m, in \u001b[0;36mh5py._objects.with_phil.wrapper\u001b[0;34m()\u001b[0m\n",
      "File \u001b[0;32m~/miniconda3/envs/mag-diff/lib/python3.11/site-packages/h5py/_hl/attrs.py:104\u001b[0m, in \u001b[0;36mAttributeManager.__setitem__\u001b[0;34m(self, name, value)\u001b[0m\n\u001b[1;32m     96\u001b[0m \u001b[38;5;129m@with_phil\u001b[39m\n\u001b[1;32m     97\u001b[0m \u001b[38;5;28;01mdef\u001b[39;00m \u001b[38;5;21m__setitem__\u001b[39m(\u001b[38;5;28mself\u001b[39m, name, value):\n\u001b[1;32m     98\u001b[0m \u001b[38;5;250m    \u001b[39m\u001b[38;5;124;03m\"\"\" Set a new attribute, overwriting any existing attribute.\u001b[39;00m\n\u001b[1;32m     99\u001b[0m \n\u001b[1;32m    100\u001b[0m \u001b[38;5;124;03m    The type and shape of the attribute are determined from the data.  To\u001b[39;00m\n\u001b[1;32m    101\u001b[0m \u001b[38;5;124;03m    use a specific type or shape, or to preserve the type of an attribute,\u001b[39;00m\n\u001b[1;32m    102\u001b[0m \u001b[38;5;124;03m    use the methods create() and modify().\u001b[39;00m\n\u001b[1;32m    103\u001b[0m \u001b[38;5;124;03m    \"\"\"\u001b[39;00m\n\u001b[0;32m--> 104\u001b[0m     \u001b[38;5;28mself\u001b[39m\u001b[38;5;241m.\u001b[39mcreate(name, data\u001b[38;5;241m=\u001b[39mvalue)\n",
      "File \u001b[0;32m~/miniconda3/envs/mag-diff/lib/python3.11/site-packages/h5py/_hl/attrs.py:182\u001b[0m, in \u001b[0;36mAttributeManager.create\u001b[0;34m(self, name, data, shape, dtype)\u001b[0m\n\u001b[1;32m    180\u001b[0m \u001b[38;5;66;03m# Make HDF5 datatype and dataspace for the H5A calls\u001b[39;00m\n\u001b[1;32m    181\u001b[0m \u001b[38;5;28;01mif\u001b[39;00m use_htype \u001b[38;5;129;01mis\u001b[39;00m \u001b[38;5;28;01mNone\u001b[39;00m:\n\u001b[0;32m--> 182\u001b[0m     htype \u001b[38;5;241m=\u001b[39m h5t\u001b[38;5;241m.\u001b[39mpy_create(original_dtype, logical\u001b[38;5;241m=\u001b[39m\u001b[38;5;28;01mTrue\u001b[39;00m)\n\u001b[1;32m    183\u001b[0m     htype2 \u001b[38;5;241m=\u001b[39m h5t\u001b[38;5;241m.\u001b[39mpy_create(original_dtype)  \u001b[38;5;66;03m# Must be bit-for-bit representation rather than logical\u001b[39;00m\n\u001b[1;32m    184\u001b[0m \u001b[38;5;28;01melse\u001b[39;00m:\n",
      "File \u001b[0;32mh5py/h5t.pyx:1663\u001b[0m, in \u001b[0;36mh5py.h5t.py_create\u001b[0;34m()\u001b[0m\n",
      "File \u001b[0;32mh5py/h5t.pyx:1687\u001b[0m, in \u001b[0;36mh5py.h5t.py_create\u001b[0;34m()\u001b[0m\n",
      "File \u001b[0;32mh5py/h5t.pyx:1705\u001b[0m, in \u001b[0;36mh5py.h5t.py_create\u001b[0;34m()\u001b[0m\n",
      "File \u001b[0;32mh5py/h5t.pyx:1459\u001b[0m, in \u001b[0;36mh5py.h5t._c_int\u001b[0;34m()\u001b[0m\n",
      "\u001b[0;31mTypeError\u001b[0m: Unsupported integer size (0)"
     ]
    }
   ],
   "source": [
    "from pmdd.utils.data_utils import create_db_mp\n",
    "\n",
    "db_kwargs = {\n",
    "    'n_samples': 10,\n",
    "    'res': [32,32],\n",
    "}\n",
    "create_db_mp('magfield_symm', n_workers=15, **db_kwargs)"
   ]
  },
  {
   "cell_type": "code",
   "execution_count": null,
   "metadata": {},
   "outputs": [],
   "source": []
  }
 ],
 "metadata": {
  "kernelspec": {
   "display_name": "magtense",
   "language": "python",
   "name": "python3"
  },
  "language_info": {
   "codemirror_mode": {
    "name": "ipython",
    "version": 3
   },
   "file_extension": ".py",
   "mimetype": "text/x-python",
   "name": "python",
   "nbconvert_exporter": "python",
   "pygments_lexer": "ipython3",
   "version": "3.11.9"
  }
 },
 "nbformat": 4,
 "nbformat_minor": 2
}
