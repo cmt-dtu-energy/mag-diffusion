{
 "cells": [
  {
   "cell_type": "markdown",
   "metadata": {},
   "source": [
    "## Create new magentic fields with [magtense](https://github.com/cmt-dtu-energy/MagTense/tree/master)"
   ]
  },
  {
   "cell_type": "code",
   "execution_count": 1,
   "metadata": {},
   "outputs": [
    {
     "name": "stderr",
     "output_type": "stream",
     "text": [
      "100%|██████████| 667/667 [01:37<00:00,  6.83it/s]\n",
      "100%|██████████| 667/667 [01:38<00:00,  6.79it/s]\n",
      "100%|██████████| 667/667 [01:38<00:00,  6.77it/s]\n",
      "100%|██████████| 667/667 [01:38<00:00,  6.77it/s]\n",
      "100%|██████████| 667/667 [01:39<00:00,  6.71it/s]\n",
      "100%|██████████| 667/667 [01:39<00:00,  6.68it/s]\n",
      "100%|██████████| 667/667 [01:40<00:00,  6.66it/s]\n",
      "100%|██████████| 667/667 [01:39<00:00,  6.74it/s]\n",
      "100%|██████████| 667/667 [01:40<00:00,  6.67it/s]\n",
      "100%|██████████| 667/667 [01:39<00:00,  6.71it/s]\n",
      "100%|██████████| 667/667 [01:40<00:00,  6.64it/s]\n",
      "100%|██████████| 667/667 [01:39<00:00,  6.69it/s]\n",
      "100%|██████████| 667/667 [01:40<00:00,  6.64it/s]\n",
      "100%|██████████| 662/662 [01:39<00:00,  6.64it/s]\n",
      "100%|██████████| 667/667 [01:39<00:00,  6.68it/s]\n"
     ]
    },
    {
     "name": "stdout",
     "output_type": "stream",
     "text": [
      "/home/spol/Documents/repos/mag-diffusion/nbs/../data/magfield_symm_64_10000_1334_2001.h5\n",
      "/home/spol/Documents/repos/mag-diffusion/nbs/../data/magfield_symm_64_10000_5336_6003.h5\n",
      "/home/spol/Documents/repos/mag-diffusion/nbs/../data/magfield_symm_64_10000_3335_4002.h5\n",
      "/home/spol/Documents/repos/mag-diffusion/nbs/../data/magfield_symm_64_10000_2668_3335.h5\n",
      "/home/spol/Documents/repos/mag-diffusion/nbs/../data/magfield_symm_64_10000_4002_4669.h5\n",
      "/home/spol/Documents/repos/mag-diffusion/nbs/../data/magfield_symm_64_10000_0_667.h5\n",
      "/home/spol/Documents/repos/mag-diffusion/nbs/../data/magfield_symm_64_10000_4669_5336.h5\n",
      "/home/spol/Documents/repos/mag-diffusion/nbs/../data/magfield_symm_64_10000_7337_8004.h5\n",
      "/home/spol/Documents/repos/mag-diffusion/nbs/../data/magfield_symm_64_10000_667_1334.h5\n",
      "/home/spol/Documents/repos/mag-diffusion/nbs/../data/magfield_symm_64_10000_8004_8671.h5\n",
      "/home/spol/Documents/repos/mag-diffusion/nbs/../data/magfield_symm_64_10000_6670_7337.h5\n",
      "/home/spol/Documents/repos/mag-diffusion/nbs/../data/magfield_symm_64_10000_8671_9338.h5\n",
      "/home/spol/Documents/repos/mag-diffusion/nbs/../data/magfield_symm_64_10000_9338_10000.h5\n",
      "/home/spol/Documents/repos/mag-diffusion/nbs/../data/magfield_symm_64_10000_2001_2668.h5\n",
      "/home/spol/Documents/repos/mag-diffusion/nbs/../data/magfield_symm_64_10000_6003_6670.h5\n",
      "Database created with the following name: magfield_symm_64_10000\n"
     ]
    }
   ],
   "source": [
    "from pathlib import Path\n",
    "\n",
    "from pmdd.utils.data_utils import create_db_mp\n",
    "\n",
    "db_kwargs = {\n",
    "    'n_samples': 10000,\n",
    "    'res': [64,64],\n",
    "    'z_comp': False\n",
    "}\n",
    "datapath = Path.cwd() / '..' / 'data'\n",
    "# datapath = \"/home/s214435/\"\n",
    "\n",
    "create_db_mp('magfield_symm', datapath, n_workers=15, **db_kwargs)"
   ]
  }
 ],
 "metadata": {
  "kernelspec": {
   "display_name": "pmdd",
   "language": "python",
   "name": "python3"
  },
  "language_info": {
   "codemirror_mode": {
    "name": "ipython",
    "version": 3
   },
   "file_extension": ".py",
   "mimetype": "text/x-python",
   "name": "python",
   "nbconvert_exporter": "python",
   "pygments_lexer": "ipython3",
   "version": "3.11.9"
  }
 },
 "nbformat": 4,
 "nbformat_minor": 2
}
