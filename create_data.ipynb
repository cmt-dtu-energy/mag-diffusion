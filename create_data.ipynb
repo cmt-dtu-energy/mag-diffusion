{
 "cells": [
  {
   "cell_type": "markdown",
   "metadata": {},
   "source": [
    "## Create new magentic fields with [magtense](https://github.com/cmt-dtu-energy/MagTense/tree/master)"
   ]
  },
  {
   "cell_type": "code",
   "execution_count": 17,
   "metadata": {},
   "outputs": [
    {
     "name": "stderr",
     "output_type": "stream",
     "text": [
      "100%|██████████| 2000/2000 [02:27<00:00, 13.58it/s]\n",
      "100%|██████████| 2000/2000 [02:27<00:00, 13.57it/s]\n",
      "100%|██████████| 2000/2000 [02:27<00:00, 13.56it/s]\n",
      "100%|██████████| 2000/2000 [02:27<00:00, 13.55it/s]\n",
      "100%|█████████▉| 1998/2000 [02:27<00:00, 13.37it/s]\n",
      "100%|█████████▉| 1992/2000 [02:27<00:00, 13.14it/s]\n",
      "100%|██████████| 2000/2000 [02:27<00:00, 13.53it/s]\n",
      "100%|██████████| 2000/2000 [02:27<00:00, 13.52it/s]\n",
      "100%|██████████| 2000/2000 [02:27<00:00, 13.52it/s]\n",
      "100%|██████████| 2000/2000 [02:27<00:00, 13.52it/s]\n",
      "100%|██████████| 2000/2000 [02:28<00:00, 13.51it/s]\n",
      "100%|██████████| 2000/2000 [02:28<00:00, 13.50it/s]\n",
      "100%|██████████| 2000/2000 [02:28<00:00, 13.50it/s]\n",
      "100%|██████████| 2000/2000 [02:28<00:00, 13.49it/s]\n",
      "100%|██████████| 2000/2000 [02:28<00:00, 13.49it/s]\n"
     ]
    },
    {
     "name": "stdout",
     "output_type": "stream",
     "text": [
      "/home/s214435/data/magfield_symm_64_30000_8000_10000.h5\n",
      "/home/s214435/data/magfield_symm_64_30000_28000_30000.h5\n",
      "/home/s214435/data/magfield_symm_64_30000_14000_16000.h5\n",
      "/home/s214435/data/magfield_symm_64_30000_22000_24000.h5\n",
      "/home/s214435/data/magfield_symm_64_30000_20000_22000.h5\n",
      "/home/s214435/data/magfield_symm_64_30000_18000_20000.h5\n",
      "/home/s214435/data/magfield_symm_64_30000_2000_4000.h5\n",
      "/home/s214435/data/magfield_symm_64_30000_26000_28000.h5\n",
      "/home/s214435/data/magfield_symm_64_30000_24000_26000.h5\n",
      "/home/s214435/data/magfield_symm_64_30000_6000_8000.h5\n",
      "/home/s214435/data/magfield_symm_64_30000_10000_12000.h5\n",
      "/home/s214435/data/magfield_symm_64_30000_4000_6000.h5\n",
      "/home/s214435/data/magfield_symm_64_30000_12000_14000.h5\n",
      "/home/s214435/data/magfield_symm_64_30000_0_2000.h5\n",
      "/home/s214435/data/magfield_symm_64_30000_16000_18000.h5\n",
      "Database created\n"
     ]
    }
   ],
   "source": [
    "from src.pmdd.utils.data_utils import create_db_mp\n",
    "from pathlib import Path\n",
    "\n",
    "db_kwargs = {\n",
    "    'n_samples': 30000,\n",
    "    'res': [64,64],\n",
    "    'z_comp': False\n",
    "}\n",
    "create_db_mp('magfield_symm', n_workers=15, datapath=Path(\"/home/s214435/data\"),**db_kwargs)"
   ]
  },
  {
   "cell_type": "code",
   "execution_count": 1,
   "metadata": {},
   "outputs": [],
   "source": [
    "from pathlib import Path"
   ]
  },
  {
   "cell_type": "code",
   "execution_count": null,
   "metadata": {},
   "outputs": [],
   "source": []
  }
 ],
 "metadata": {
  "kernelspec": {
   "display_name": "magtense",
   "language": "python",
   "name": "python3"
  },
  "language_info": {
   "codemirror_mode": {
    "name": "ipython",
    "version": 3
   },
   "file_extension": ".py",
   "mimetype": "text/x-python",
   "name": "python",
   "nbconvert_exporter": "python",
   "pygments_lexer": "ipython3",
   "version": "3.11.9"
  }
 },
 "nbformat": 4,
 "nbformat_minor": 2
}
